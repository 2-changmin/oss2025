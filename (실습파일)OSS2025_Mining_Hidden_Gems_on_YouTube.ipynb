{
  "nbformat": 4,
  "nbformat_minor": 0,
  "metadata": {
    "colab": {
      "provenance": [],
      "include_colab_link": true
    },
    "kernelspec": {
      "name": "python3",
      "display_name": "Python 3"
    },
    "language_info": {
      "name": "python"
    }
  },
  "cells": [
    {
      "cell_type": "markdown",
      "metadata": {
        "id": "view-in-github",
        "colab_type": "text"
      },
      "source": [
        "<a href=\"https://colab.research.google.com/github/2-changmin/oss2025/blob/main/(%EC%8B%A4%EC%8A%B5%ED%8C%8C%EC%9D%BC)OSS2025_Mining_Hidden_Gems_on_YouTube.ipynb\" target=\"_parent\"><img src=\"https://colab.research.google.com/assets/colab-badge.svg\" alt=\"Open In Colab\"/></a>"
      ]
    },
    {
      "cell_type": "markdown",
      "source": [
        "# Youtube API와 함께하는 핸즈온 튜토리얼\n",
        "Youtube는 No1인 비디오 공유 플랫폼이다. 1억명 사용자들은 수천억시간의 비디오를 소비하고 매분마다 500시간의 컨텐츠가 업로드된다.\n",
        "\n",
        "다양한 형태와 장르의 영상들이 존재한다. 주로 뮤직비디오, 강좌, 버라이어티 쇼, 드라마, 상품 리뷰 등 녹화된 방송들이 게시되기도 한다. 한편, 홈쇼핑, 게이밍 대회 와 같은 영상들은 실시간으로 스트리밍 되기도 한다.\n",
        "\n",
        "빅데이터 4V(Volume, Velocity, Variety, Veracity) 측면에서 Youtube 관련 데이터를 관심있어야하는 이유는 다음과 같다.\n",
        "- Volume: 10억명의 사용자가 생성하고 관람하는 데이터는 엄청나게 많다.\n",
        "- Velocity: 다양한 스트리밍 채널에서 사용자들은 수초내에 수백개의 메시지와 함께 커뮤니케이션 및 보기가 가능하다.\n",
        "- Variety: 동영상 데이터 뿐만 아니라, 구조화된  데이터(통계치, 메타데이터)와 비구조화된 텍스트(채팅, 댓글)들을 다룰 수 있다.\n",
        "- Veracity: Youtube 영상 자체가 특정 사실에 대해 불확실 정보를 포함할 수 있으며, 영상에 대한 정보가 잘못 표기될 수도 있다."
      ],
      "metadata": {
        "id": "pD1XkrsqpUa1"
      }
    },
    {
      "cell_type": "markdown",
      "source": [
        "# 본 튜토리얼의 기본 목표\n",
        "1. Youtube API를 이용하여 영상을 검색하거나 관련된 정보를 수집할 수 있다.\n",
        "2. 수집된 정보로부터 그래프 기반 시각화\n",
        "3. 키워드 분석\n"
      ],
      "metadata": {
        "id": "_1Zy85L01l_f"
      }
    },
    {
      "cell_type": "markdown",
      "source": [
        "Copyright 2023 by datasciencelabs.org\n",
        "\n"
      ],
      "metadata": {
        "id": "-6cXgm03ustU"
      }
    },
    {
      "cell_type": "markdown",
      "source": [
        "# 사전조건\n",
        "1. Youtube API를 활용하기 위해서는 Google API Python Client Library.로부터 API Key를 발급받아야 한다.\n",
        "2. 개인 컴퓨터를 사용하는 경우, 가능한 Linux를 이용해서 설치(install)부분을 설치완료해야한다."
      ],
      "metadata": {
        "id": "CpJsHoSJp_dD"
      }
    },
    {
      "cell_type": "markdown",
      "source": [
        "# 설치하기"
      ],
      "metadata": {
        "id": "IZg3GtyD5T65"
      }
    },
    {
      "cell_type": "markdown",
      "source": [
        "install the google api python client"
      ],
      "metadata": {
        "id": "TKuqfRoeuRc2"
      }
    },
    {
      "cell_type": "code",
      "source": [
        "!pip install google-api-python-client youtube_transcript_api > /dev/null 2>&1"
      ],
      "metadata": {
        "collapsed": true,
        "id": "DOE6HAWIbRuO"
      },
      "execution_count": 1,
      "outputs": []
    },
    {
      "cell_type": "code",
      "source": [
        "!pip install -q plotly > /dev/null 2>&1"
      ],
      "metadata": {
        "id": "cM93KiITk9z6"
      },
      "execution_count": 2,
      "outputs": []
    },
    {
      "cell_type": "code",
      "source": [
        "!pip install python-dotenv > /dev/null 2>&1"
      ],
      "metadata": {
        "id": "rWXM3JHwBDkm"
      },
      "execution_count": 3,
      "outputs": []
    },
    {
      "cell_type": "markdown",
      "source": [
        "# API documentation\n",
        "구체적인 Youtube API[https://developers.google.com/youtube/v3] 다음 링크에 있는 문서를 참고하시기 바랍니다.\n",
        "\n",
        "API Reference\n",
        "https://developers.google.com/youtube/v3/docs"
      ],
      "metadata": {
        "id": "zVlIhE9iuZXQ"
      }
    },
    {
      "cell_type": "markdown",
      "source": [
        "## Query Template\n",
        "\n",
        "PYTHON API는 다음과 같이 api.(resources).(method) 형태로 구성된다.\n",
        "```\n",
        "# To perform list method on playlists resource\n",
        "request = youtube.playlists().list(\n",
        ")\n",
        "# To perform list method on videos resource\n",
        "request = youtube.videos().list(\n",
        ")\n",
        "# to perform list method on channels resource\n",
        "request = youtube.channels().list(\n",
        ")\n",
        "```"
      ],
      "metadata": {
        "id": "Uj0QRyQawBsV"
      }
    },
    {
      "cell_type": "markdown",
      "source": [
        "Search vs. Video resources\n",
        "\n",
        "Search resource: contains information about a Youtube video, channel or playlist that matches the search parameters specified in an API request\n",
        "\n",
        "Video resource: representes a Youtube Video"
      ],
      "metadata": {
        "id": "j4Y9bBbZwO3R"
      }
    },
    {
      "cell_type": "markdown",
      "source": [
        "Part parameter\n",
        "https://developers.google.com/youtube/v3/docs/search/list#parameters\n",
        "\n",
        "a comma-separated list of one or more search resource properties that the API response will include. Set the parameter value to snippet."
      ],
      "metadata": {
        "id": "1lhsMc_Mwh3e"
      }
    },
    {
      "cell_type": "code",
      "source": [
        "from google.colab import drive\n",
        "import json\n",
        "\n",
        "drive.mount('/content/drive')\n",
        "\n",
        "with open('/content/drive/MyDrive/config.json') as f:\n",
        "    config = json.load(f)\n",
        "\n",
        "API_KEY = config[\"API_KEY\"]\n",
        "WIKI_API_KEY = config[\"WIKI_API_KEY\"]"
      ],
      "metadata": {
        "colab": {
          "base_uri": "https://localhost:8080/"
        },
        "id": "eggiT2LR4sG0",
        "outputId": "6c61efd3-136b-4d4a-cca6-0ce0a426a6c1"
      },
      "execution_count": 4,
      "outputs": [
        {
          "output_type": "stream",
          "name": "stdout",
          "text": [
            "Drive already mounted at /content/drive; to attempt to forcibly remount, call drive.mount(\"/content/drive\", force_remount=True).\n"
          ]
        }
      ]
    },
    {
      "cell_type": "code",
      "source": [
        "# API client library\n",
        "import googleapiclient.discovery\n",
        "# API information\n",
        "api_service_name = \"youtube\"\n",
        "api_version = \"v3\"\n",
        "\n",
        "# API client\n",
        "youtube = googleapiclient.discovery.build(\n",
        "    api_service_name, api_version, developerKey = API_KEY)\n",
        "\n",
        "# 'request' variable is the only thing you must change\n",
        "# depending on the resource and method you need to use\n",
        "# in your query\n",
        "request = youtube.search().list(\n",
        "    part=\"id,snippet\",\n",
        "    type='video',\n",
        "    q=\"Python 강의\",\n",
        "    videoDuration='medium',\n",
        "    videoDefinition='high',\n",
        "    maxResults= 10\n",
        ")\n",
        "\n",
        "# Query execution\n",
        "video_list = request.execute()"
      ],
      "metadata": {
        "id": "sM-RT_DJu_f0"
      },
      "execution_count": 5,
      "outputs": []
    },
    {
      "cell_type": "code",
      "source": [
        "video_list['items'][0]['snippet']['title']\n",
        "video_id = video_list['items'][0]['id']['videoId']\n",
        "video_title = video_list['items'][0]['snippet']['title']\n",
        "video_title1 = video_list['items'][1]['snippet']['title']\n",
        "video_title2 = video_list['items'][2]['snippet']['title']\n",
        "video_title3 = video_list['items'][3]['snippet']['title']\n",
        "video_title4 = video_list['items'][4]['snippet']['title']\n",
        "video_title5 = video_list['items'][5]['snippet']['title']\n",
        "video_title6 = video_list['items'][6]['snippet']['title']\n",
        "video_title7 = video_list['items'][7]['snippet']['title']\n",
        "video_title8 = video_list['items'][8]['snippet']['title']\n",
        "video_title8\n"
      ],
      "metadata": {
        "id": "B-YuZpCKbzKw",
        "colab": {
          "base_uri": "https://localhost:8080/",
          "height": 35
        },
        "outputId": "673f1bea-7c60-422f-9d43-d6ff9c7e6b09"
      },
      "execution_count": 6,
      "outputs": [
        {
          "output_type": "execute_result",
          "data": {
            "text/plain": [
              "'NumPy copy and view Explained - Python Data Science Guide | For Beginners (Lecture #22)'"
            ],
            "application/vnd.google.colaboratory.intrinsic+json": {
              "type": "string"
            }
          },
          "metadata": {},
          "execution_count": 6
        }
      ]
    },
    {
      "cell_type": "markdown",
      "source": [
        "### Youtube 자막 받아오기"
      ],
      "metadata": {
        "id": "3l8BwSCM6gty"
      }
    },
    {
      "cell_type": "code",
      "source": [
        "from youtube_transcript_api import YouTubeTranscriptApi\n",
        "\n",
        "# Youtube 자막 추출 함수\n",
        "def get_transcript(video_id, languages=['ko']):\n",
        "  transcript = YouTubeTranscriptApi.get_transcript(video_id, languages=['ko'])\n",
        "  full_transcript = ' '.join([item['text'] for item in transcript])\n",
        "  return full_transcript\n"
      ],
      "metadata": {
        "id": "YcVLrba1bucp",
        "collapsed": true
      },
      "execution_count": 7,
      "outputs": []
    },
    {
      "cell_type": "code",
      "source": [
        "# Video ID 추출\n",
        "video_id = video_list['items'][0]['id']['videoId']\n",
        "video_id1 = video_list['items'][1]['id']['videoId']\n",
        "video_id2 = video_list['items'][2]['id']['videoId']\n",
        "video_id3= video_list['items'][3]['id']['videoId']\n",
        "video_id4 = video_list['items'][4]['id']['videoId']\n",
        "video_id5 = video_list['items'][5]['id']['videoId']\n",
        "video_id6 = video_list['items'][6]['id']['videoId']\n",
        "video_id7= video_list['items'][7]['id']['videoId']\n",
        "video_id8 = video_list['items'][8]['id']['videoId']\n",
        "\n",
        "# Youtube 영상의 자막 받아오기\n",
        "full_transcript = get_transcript(video_id)\n",
        "full_transcript1 = get_transcript(video_id1)\n",
        "full_transcript2 = get_transcript(video_id2)\n",
        "full_transcript3 = get_transcript(video_id3)\n",
        "full_transcript4 = get_transcript(video_id4)\n",
        "full_transcript5 = get_transcript(video_id5)\n",
        "full_transcript6 = get_transcript(video_id6)\n",
        "full_transcript7 = get_transcript(video_id7)\n",
        "#full_transcript8 = get_transcript(video_id8)"
      ],
      "metadata": {
        "id": "3vvcYR42kVtQ"
      },
      "execution_count": 8,
      "outputs": []
    },
    {
      "cell_type": "markdown",
      "source": [
        "Wikipedia API를 이용하여 관련 키워드 추출"
      ],
      "metadata": {
        "id": "23Li0f1YAPSN"
      }
    },
    {
      "cell_type": "code",
      "source": [
        "import requests\n",
        "import json\n",
        "\n",
        "# API 정보\n",
        "\n",
        "url = 'http://www.wikifier.org/annotate-article'\n",
        "\n",
        "params = {\n",
        "    'text': full_transcript,\n",
        "    'lang': 'ko',\n",
        "    'userKey': WIKI_API_KEY,\n",
        "    'pageRankSqThreshold': 0.8,\n",
        "    'applyPageRankSqThreshold': 'true',\n",
        "    'nTopDfValuesToIgnore': 100,\n",
        "    'nWordsToIgnoreFromList': 100\n",
        "}\n",
        "\n",
        "response = requests.post(url, data=params)\n",
        "wikis = response.json()\n",
        "\n",
        "params1 = {\n",
        "    'text': full_transcript1,\n",
        "    'lang': 'ko',\n",
        "    'userKey': WIKI_API_KEY,\n",
        "    'pageRankSqThreshold': 0.8,\n",
        "    'applyPageRankSqThreshold': 'true',\n",
        "    'nTopDfValuesToIgnore': 100,\n",
        "    'nWordsToIgnoreFromList': 100\n",
        "}\n",
        "\n",
        "response1 = requests.post(url, data=params1)\n",
        "wikis1 = response1.json()\n",
        "\n",
        "params2 = {\n",
        "    'text': full_transcript2,\n",
        "    'lang': 'ko',\n",
        "    'userKey': WIKI_API_KEY,\n",
        "    'pageRankSqThreshold': 0.8,\n",
        "    'applyPageRankSqThreshold': 'true',\n",
        "    'nTopDfValuesToIgnore': 100,\n",
        "    'nWordsToIgnoreFromList': 100\n",
        "}\n",
        "\n",
        "response2 = requests.post(url, data=params2)\n",
        "wikis2 = response2.json()\n",
        "\n",
        "params3 = {\n",
        "    'text': full_transcript3,\n",
        "    'lang': 'ko',\n",
        "    'userKey': WIKI_API_KEY,\n",
        "    'pageRankSqThreshold': 0.8,\n",
        "    'applyPageRankSqThreshold': 'true',\n",
        "    'nTopDfValuesToIgnore': 100,\n",
        "    'nWordsToIgnoreFromList': 100\n",
        "}\n",
        "\n",
        "response3 = requests.post(url, data=params3)\n",
        "wikis3 = response3.json()\n",
        "\n",
        "params4 = {\n",
        "    'text': full_transcript4,\n",
        "    'lang': 'ko',\n",
        "    'userKey': WIKI_API_KEY,\n",
        "    'pageRankSqThreshold': 0.8,\n",
        "    'applyPageRankSqThreshold': 'true',\n",
        "    'nTopDfValuesToIgnore': 100,\n",
        "    'nWordsToIgnoreFromList': 100\n",
        "}\n",
        "\n",
        "response4 = requests.post(url, data=params4)\n",
        "wikis4 = response4.json()\n",
        "\n",
        "params5 = {\n",
        "    'text': full_transcript5,\n",
        "    'lang': 'ko',\n",
        "    'userKey': WIKI_API_KEY,\n",
        "    'pageRankSqThreshold': 0.8,\n",
        "    'applyPageRankSqThreshold': 'true',\n",
        "    'nTopDfValuesToIgnore': 100,\n",
        "    'nWordsToIgnoreFromList': 100\n",
        "}\n",
        "\n",
        "response5 = requests.post(url, data=params5)\n",
        "wikis5 = response5.json()\n",
        "\n",
        "params6 = {\n",
        "    'text': full_transcript6,\n",
        "    'lang': 'ko',\n",
        "    'userKey': WIKI_API_KEY,\n",
        "    'pageRankSqThreshold': 0.8,\n",
        "    'applyPageRankSqThreshold': 'true',\n",
        "    'nTopDfValuesToIgnore': 100,\n",
        "    'nWordsToIgnoreFromList': 100\n",
        "}\n",
        "\n",
        "response6 = requests.post(url, data=params6)\n",
        "wikis6 = response6.json()\n",
        "\n",
        "params7 = {\n",
        "    'text': full_transcript7,\n",
        "    'lang': 'ko',\n",
        "    'userKey': WIKI_API_KEY,\n",
        "    'pageRankSqThreshold': 0.8,\n",
        "    'applyPageRankSqThreshold': 'true',\n",
        "    'nTopDfValuesToIgnore': 100,\n",
        "    'nWordsToIgnoreFromList': 100\n",
        "}\n",
        "\n",
        "response7 = requests.post(url, data=params7)\n",
        "wikis7 = response7.json()\n",
        "'''\n",
        "params8 = {\n",
        "    'text': full_transcript8,\n",
        "    'lang': 'ko',\n",
        "    'userKey': WIKI_API_KEY,\n",
        "    'pageRankSqThreshold': 0.8,\n",
        "    'applyPageRankSqThreshold': 'true',\n",
        "    'nTopDfValuesToIgnore': 100,\n",
        "    'nWordsToIgnoreFromList': 100\n",
        "}\n",
        "\n",
        "response8 = requests.post(url, data=params8)\n",
        "wikis8 = response8.json()\n",
        "'''"
      ],
      "metadata": {
        "id": "4x0xNXLnD0fd",
        "colab": {
          "base_uri": "https://localhost:8080/",
          "height": 72
        },
        "outputId": "40c38974-71fb-4348-b669-c7085a705b2a"
      },
      "execution_count": 9,
      "outputs": [
        {
          "output_type": "execute_result",
          "data": {
            "text/plain": [
              "\"\\nparams8 = {\\n    'text': full_transcript8,\\n    'lang': 'ko',\\n    'userKey': WIKI_API_KEY,\\n    'pageRankSqThreshold': 0.8,\\n    'applyPageRankSqThreshold': 'true',\\n    'nTopDfValuesToIgnore': 100,\\n    'nWordsToIgnoreFromList': 100\\n}\\n\\nresponse8 = requests.post(url, data=params8)\\nwikis8 = response8.json()\\n\""
            ],
            "application/vnd.google.colaboratory.intrinsic+json": {
              "type": "string"
            }
          },
          "metadata": {},
          "execution_count": 9
        }
      ]
    },
    {
      "cell_type": "code",
      "source": [
        "keywords = set()\n",
        "for d in wikis['ranges']:\n",
        "  for candidate in d['candidates']:\n",
        "    if candidate['cosine'] > 0.05:\n",
        "      keywords.add(candidate['title'])\n",
        "\n",
        "keywords1 = set()\n",
        "for d in wikis1['ranges']:\n",
        "  for candidate in d['candidates']:\n",
        "    if candidate['cosine'] > 0.05:\n",
        "      keywords1.add(candidate['title'])\n",
        "\n",
        "keywords2 = set()\n",
        "for d in wikis2['ranges']:\n",
        "  for candidate in d['candidates']:\n",
        "    if candidate['cosine'] > 0.05:\n",
        "      keywords2.add(candidate['title'])\n",
        "\n",
        "keywords3 = set()\n",
        "for d in wikis3['ranges']:\n",
        "  for candidate in d['candidates']:\n",
        "    if candidate['cosine'] > 0.05:\n",
        "      keywords3.add(candidate['title'])\n",
        "\n",
        "keywords4 = set()\n",
        "for d in wikis4['ranges']:\n",
        "  for candidate in d['candidates']:\n",
        "    if candidate['cosine'] > 0.05:\n",
        "      keywords4.add(candidate['title'])\n",
        "\n",
        "keywords5 = set()\n",
        "for d in wikis5['ranges']:\n",
        "  for candidate in d['candidates']:\n",
        "    if candidate['cosine'] > 0.05:\n",
        "      keywords1.add(candidate['title'])\n",
        "\n",
        "keywords6 = set()\n",
        "for d in wikis6['ranges']:\n",
        "  for candidate in d['candidates']:\n",
        "    if candidate['cosine'] > 0.05:\n",
        "      keywords2.add(candidate['title'])\n",
        "\n",
        "keywords7 = set()\n",
        "for d in wikis7['ranges']:\n",
        "  for candidate in d['candidates']:\n",
        "    if candidate['cosine'] > 0.05:\n",
        "      keywords3.add(candidate['title'])\n",
        "'''\n",
        "keywords8 = set()\n",
        "for d in wikis8['ranges']:\n",
        "  for candidate in d['candidates']:\n",
        "    if candidate['cosine'] > 0.05:\n",
        "      keywords4.add(candidate['title'])\n",
        "\n",
        "keywords8\n",
        "'''"
      ],
      "metadata": {
        "id": "UrIKWPikBSDI",
        "colab": {
          "base_uri": "https://localhost:8080/",
          "height": 54
        },
        "outputId": "056a4faf-e1a2-4202-bb77-bef5166c6926"
      },
      "execution_count": 10,
      "outputs": [
        {
          "output_type": "execute_result",
          "data": {
            "text/plain": [
              "\"\\nkeywords8 = set()\\nfor d in wikis8['ranges']:\\n  for candidate in d['candidates']:\\n    if candidate['cosine'] > 0.05:\\n      keywords4.add(candidate['title'])\\n\\nkeywords8\\n\""
            ],
            "application/vnd.google.colaboratory.intrinsic+json": {
              "type": "string"
            }
          },
          "metadata": {},
          "execution_count": 10
        }
      ]
    },
    {
      "cell_type": "markdown",
      "source": [
        "#### Exercise\n",
        "영상 간 공통 키워드를 연결하는 네트워크 그래프를 만들기\n",
        "1. N개 유튜브 강의에 대해 대표 키워드 세트 정의\n",
        "2. 영상 2개씩 조합하여 공통 키워드 추출\n",
        "3. 공통 키워드가 있으면 NetworkX를 이용해 연결\n",
        "4. 엣지 라벨로 공통 키워드 표시, 노드는 영상 제목 표시"
      ],
      "metadata": {
        "id": "OCVoMPYh068o"
      }
    },
    {
      "cell_type": "code",
      "source": [
        "\n",
        "!sudo apt-get install -y fonts-nanum > /dev/null 2>&1\n",
        "!sudo fc-cache -fv > /dev/null 2>&1\n",
        "!rm ~/.cache/matplotlib -rf > /dev/null 2>&1\n",
        "\n",
        "# 1. 한글 폰트 설치 (나눔고딕)\n",
        "import matplotlib.pyplot as plt\n",
        "import matplotlib.font_manager as fm\n",
        "import matplotlib\n",
        "import networkx as nx\n",
        "from itertools import combinations\n",
        "\n",
        "# 2. Colab 런타임에 폰트 적용\n",
        "plt.rc('font', family='NanumBarunGothic')\n",
        "plt.rcParams['axes.unicode_minus'] = False\n",
        "\n",
        "# 3. 영상별 키워드 예시\n",
        "# 추출한 것으로 수정 필요!\n",
        "video_keywords = {\n",
        "  video_title: keywords,\n",
        "  video_title1: keywords1,\n",
        "  video_title2: keywords2,\n",
        "  video_title3: keywords3,\n",
        "  video_title4: keywords4,\n",
        "  video_title5: keywords5,\n",
        "  video_title6: keywords6,\n",
        "  video_title7: keywords7,\n",
        "  #video_title8: keywords8\n",
        "}\n",
        "\n",
        "# 4. NetworkX 그래프 생성\n",
        "G = nx.Graph()\n",
        "G.add_nodes_from(video_keywords.keys())\n",
        "\n",
        "for vid1, vid2 in combinations(video_keywords.keys(), 2):\n",
        "    shared = video_keywords[vid1] & video_keywords[vid2]\n",
        "    if shared:\n",
        "        G.add_edge(vid1, vid2, weight=len(shared), label=\", \".join(shared))\n",
        "\n",
        "# 5. 시각화\n",
        "pos = nx.spring_layout(G, seed=42)\n",
        "\n",
        "plt.figure(figsize=(10, 6))\n",
        "nx.draw_networkx_nodes(G, pos, node_size=1000, node_color=\"lightyellow\")\n",
        "nx.draw_networkx_labels(G, pos, font_size=12, font_family='NanumBarunGothic')\n",
        "nx.draw_networkx_edges(G, pos, width=2)\n",
        "\n",
        "# edge label 표시\n",
        "edge_labels = nx.get_edge_attributes(G, \"label\")\n",
        "nx.draw_networkx_edge_labels(G, pos, edge_labels=edge_labels, font_size=10, font_family='NanumBarunGothic')\n",
        "\n",
        "plt.title(\"유튜브 영상 간 공통 키워드 네트워크 \", fontsize=14)\n",
        "plt.axis(\"off\")\n",
        "plt.show()"
      ],
      "metadata": {
        "id": "cSbo0AuLb0bm",
        "colab": {
          "base_uri": "https://localhost:8080/",
          "height": 522
        },
        "outputId": "79675d99-4dd2-4b9e-d1a6-20d6b36ab684"
      },
      "execution_count": 11,
      "outputs": [
        {
          "output_type": "display_data",
          "data": {
            "text/plain": [
              "<Figure size 1000x600 with 1 Axes>"
            ],
            "image/png": "[encoded data removed]"
          },
          "metadata": {}
        }
      ]
    },
    {
      "cell_type": "markdown",
      "source": [
        "### 🔍 **시각적 가독성 개선을 위한 작은 변화**\n",
        "\n",
        "기존 그래프는 한눈에 보기엔 **많이 복잡하고 시선이 분산되는 느낌**이 있었습니다.  \n",
        "그래서 *사용자의 직관적인 이해*를 돕기 위해 **마우스를 가져다 댔을 때 제목이 표시되도록 개선**했습니다.\n",
        "\n",
        "*각 선들에는 공통 키워드들을 표시해두었고 넘버링이 되어있는 원에 마우스를 가져다 대면 영상의 제목이 나옵니다.*\n",
        "\n",
        "#### 깃허브에서는 아래 코드에 대한 그래프가 나오지 않습니다. 코랩 주소를 통해 들어가셔서 확인해주시면 됩니다!"
      ],
      "metadata": {
        "id": "E2KbqBVflm38"
      }
    },
    {
      "cell_type": "code",
      "source": [
        "import plotly.graph_objects as go\n",
        "\n",
        "pos = nx.spring_layout(G, seed=42)\n",
        "\n",
        "# 노드 trace 만들기\n",
        "node_trace = go.Scatter(\n",
        "    x=[], y=[], text=[], mode='markers+text',\n",
        "    hoverinfo='text', textposition='top center',\n",
        "    marker=dict(size=20, color='lightblue')\n",
        ")\n",
        "\n",
        "node_hover_text = []\n",
        "for i, node in enumerate(G.nodes()):\n",
        "    x, y = pos[node]\n",
        "    node_trace['x'] += tuple([x])\n",
        "    node_trace['y'] += tuple([y])\n",
        "    node_trace['text'] += tuple([str(i + 1)])  # 숫자만 표시\n",
        "    node_hover_text.append(f\"{i+1}. {node}\")\n",
        "node_trace.hovertext = node_hover_text\n",
        "\n",
        "# 엣지 trace 생성 (선만)\n",
        "edge_x = []\n",
        "edge_y = []\n",
        "\n",
        "for edge in G.edges(data=True):\n",
        "    x0, y0 = pos[edge[0]]\n",
        "    x1, y1 = pos[edge[1]]\n",
        "    edge_x.extend([x0, x1, None])\n",
        "    edge_y.extend([y0, y1, None])\n",
        "\n",
        "edge_trace = go.Scatter(\n",
        "    x=edge_x, y=edge_y,\n",
        "    line=dict(width=1, color='#888'),\n",
        "    mode='lines',\n",
        "    hoverinfo='none'  # hover 제거 (항상 보일 거니까)\n",
        ")\n",
        "\n",
        "# 📌 공통 키워드 텍스트를 edge 중앙에 표시\n",
        "edge_annotations = []\n",
        "for edge in G.edges(data=True):\n",
        "    x0, y0 = pos[edge[0]]\n",
        "    x1, y1 = pos[edge[1]]\n",
        "    label = edge[2].get('label', '')\n",
        "\n",
        "    # 두 노드 사이 중앙 좌표 계산\n",
        "    mid_x = (x0 + x1) / 2\n",
        "    mid_y = (y0 + y1) / 2\n",
        "\n",
        "    # annotation 추가\n",
        "    edge_annotations.append(\n",
        "        dict(\n",
        "            x=mid_x,\n",
        "            y=mid_y,\n",
        "            text=label,\n",
        "            showarrow=False,\n",
        "            font=dict(size=10),\n",
        "            align='center'\n",
        "        )\n",
        "    )\n",
        "\n",
        "# 최종 그래프 만들기\n",
        "fig = go.Figure(\n",
        "    data=[edge_trace, node_trace],\n",
        "    layout=go.Layout(\n",
        "        title='유튜브 영상 키워드 네트워크',\n",
        "        titlefont_size=16,\n",
        "        showlegend=False,\n",
        "        hovermode='closest',\n",
        "        margin=dict(b=20,l=5,r=5,t=40),\n",
        "        annotations=edge_annotations,  # ← 📌 엣지 키워드 표시\n",
        "        xaxis=dict(showgrid=False, zeroline=False),\n",
        "        yaxis=dict(showgrid=False, zeroline=False)\n",
        "    )\n",
        ")\n",
        "\n",
        "fig.show()"
      ],
      "metadata": {
        "id": "rSy-RhHklDla",
        "colab": {
          "base_uri": "https://localhost:8080/",
          "height": 542
        },
        "outputId": "7ac584d4-5cc7-4b21-d748-d4c054b59513"
      },
      "execution_count": 12,
      "outputs": [
        {
          "output_type": "display_data",
          "data": {
            "text/html": [
              "<html>\n",
              "<head><meta charset=\"utf-8\" /></head>\n",
              "<body>\n",
              "    <div>            <script src=\"https://cdnjs.cloudflare.com/ajax/libs/mathjax/2.7.5/MathJax.js?config=TeX-AMS-MML_SVG\"></script><script type=\"text/javascript\">if (window.MathJax && window.MathJax.Hub && window.MathJax.Hub.Config) {window.MathJax.Hub.Config({SVG: {font: \"STIX-Web\"}});}</script>                <script type=\"text/javascript\">window.PlotlyConfig = {MathJaxConfig: 'local'};</script>\n",
              "        <script charset=\"utf-8\" src=\"https://cdn.plot.ly/plotly-2.35.2.min.js\"></script>                <div id=\"b19c37d5-32da-407f-935e-e9317a73bfdb\" class=\"plotly-graph-div\" style=\"height:525px; width:100%;\"></div>            <script type=\"text/javascript\">                                    window.PLOTLYENV=window.PLOTLYENV || {};                                    if (document.getElementById(\"b19c37d5-32da-407f-935e-e9317a73bfdb\")) {                    Plotly.newPlot(                        \"b19c37d5-32da-407f-935e-e9317a73bfdb\",                        [{\"hoverinfo\":\"none\",\"line\":{\"color\":\"#888\",\"width\":1},\"mode\":\"lines\",\"x\":[-0.024680146673648037,0.05587312431404873,null,-0.024680146673648037,-0.0595981685473727,null,-0.024680146673648037,-0.17308444634586523,null,-0.024680146673648037,0.06194509196986849,null,0.05587312431404873,-0.0595981685473727,null,0.05587312431404873,0.06194509196986849,null,-0.0595981685473727,-0.17308444634586523,null,-0.0595981685473727,0.06194509196986849,null],\"y\":[0.15472510069937848,-0.00035264964064710076,null,0.15472510069937848,0.06555292534059483,null,0.15472510069937848,0.09469590574729725,null,0.15472510069937848,0.10719151675184602,null,-0.00035264964064710076,0.06555292534059483,null,-0.00035264964064710076,0.10719151675184602,null,0.06555292534059483,0.09469590574729725,null,0.06555292534059483,0.10719151675184602,null],\"type\":\"scatter\"},{\"hoverinfo\":\"text\",\"hovertext\":[\"1. AI 시대 파이썬을 배워야 하는 이유\",\"2. 파이썬(python) 설치와 실행, IDLE(아이들) 사용 방법\",\"3. Colab 시작하기 - Python 기초 강의, Python 시작하기\",\"4. [파이썬 기초 14강] 파이썬 클래스, 객체, 인스턴스, 생성자, 메서드, self 개념 총정리!! 정말 쉽게 설명해 드립니다.\",\"5. 코딩 초보를 위한 파이썬 기초 강의 - 01. Python 소개 &amp; 기본 세팅 | Python for Beginners\",\"6. [중급자를 위한 Python] #1 강의소개\",\"7. 파이썬(python) 기초 강의 - 클래스(class) 개념 잡기\",\"8. 파이썬(python) 기초 강의 - 함수 만들기와 리턴값 이해하기\"],\"marker\":{\"color\":\"lightblue\",\"size\":20},\"mode\":\"markers+text\",\"text\":[\"1\",\"2\",\"3\",\"4\",\"5\",\"6\",\"7\",\"8\"],\"textposition\":\"top center\",\"x\":[-0.024680146673648037,0.05587312431404873,-0.0595981685473727,-0.17308444634586523,0.06194509196986849,-0.6535292467278024,0.9861880666119086,-0.1931142746011373],\"y\":[0.15472510069937848,-0.00035264964064710076,0.06555292534059483,0.09469590574729725,0.10719151675184602,1.0,-0.5199528882787816,-0.9018599106196878],\"type\":\"scatter\"}],                        {\"annotations\":[{\"align\":\"center\",\"font\":{\"size\":10},\"showarrow\":false,\"text\":\"파이썬\",\"x\":0.015596488820200346,\"y\":0.07718622552936569},{\"align\":\"center\",\"font\":{\"size\":10},\"showarrow\":false,\"text\":\"파이썬, 시간, 컴퓨터\",\"x\":-0.04213915761051037,\"y\":0.11013901301998666},{\"align\":\"center\",\"font\":{\"size\":10},\"showarrow\":false,\"text\":\"시간\",\"x\":-0.09888229650975663,\"y\":0.12471050322333786},{\"align\":\"center\",\"font\":{\"size\":10},\"showarrow\":false,\"text\":\"컴퓨터 프로그래밍, 프로그래밍 언어, 파이썬\",\"x\":0.01863247264811023,\"y\":0.13095830872561226},{\"align\":\"center\",\"font\":{\"size\":10},\"showarrow\":false,\"text\":\"컴퓨터 파일, 파이썬\",\"x\":-0.0018625221166619875,\"y\":0.03260013784997386},{\"align\":\"center\",\"font\":{\"size\":10},\"showarrow\":false,\"text\":\"컴퓨터 파일, 파이썬\",\"x\":0.05890910814195861,\"y\":0.05341943355559946},{\"align\":\"center\",\"font\":{\"size\":10},\"showarrow\":false,\"text\":\"클래스 (컴퓨터 프로그래밍), 객체 지향 프로그래밍, 시간, 객체 (컴퓨터 과학)\",\"x\":-0.11634130744661897,\"y\":0.08012441554394603},{\"align\":\"center\",\"font\":{\"size\":10},\"showarrow\":false,\"text\":\"컴퓨터 파일, 실행 파일, 파이썬\",\"x\":0.0011734617112478946,\"y\":0.08637222104622042}],\"hovermode\":\"closest\",\"margin\":{\"b\":20,\"l\":5,\"r\":5,\"t\":40},\"showlegend\":false,\"title\":{\"font\":{\"size\":16},\"text\":\"유튜브 영상 키워드 네트워크\"},\"xaxis\":{\"showgrid\":false,\"zeroline\":false},\"yaxis\":{\"showgrid\":false,\"zeroline\":false},\"template\":{\"data\":{\"histogram2dcontour\":[{\"type\":\"histogram2dcontour\",\"colorbar\":{\"outlinewidth\":0,\"ticks\":\"\"},\"colorscale\":[[0.0,\"#0d0887\"],[0.1111111111111111,\"#46039f\"],[0.2222222222222222,\"#7201a8\"],[0.3333333333333333,\"#9c179e\"],[0.4444444444444444,\"#bd3786\"],[0.5555555555555556,\"#d8576b\"],[0.6666666666666666,\"#ed7953\"],[0.7777777777777778,\"#fb9f3a\"],[0.8888888888888888,\"#fdca26\"],[1.0,\"#f0f921\"]]}],\"choropleth\":[{\"type\":\"choropleth\",\"colorbar\":{\"outlinewidth\":0,\"ticks\":\"\"}}],\"histogram2d\":[{\"type\":\"histogram2d\",\"colorbar\":{\"outlinewidth\":0,\"ticks\":\"\"},\"colorscale\":[[0.0,\"#0d0887\"],[0.1111111111111111,\"#46039f\"],[0.2222222222222222,\"#7201a8\"],[0.3333333333333333,\"#9c179e\"],[0.4444444444444444,\"#bd3786\"],[0.5555555555555556,\"#d8576b\"],[0.6666666666666666,\"#ed7953\"],[0.7777777777777778,\"#fb9f3a\"],[0.8888888888888888,\"#fdca26\"],[1.0,\"#f0f921\"]]}],\"heatmap\":[{\"type\":\"heatmap\",\"colorbar\":{\"outlinewidth\":0,\"ticks\":\"\"},\"colorscale\":[[0.0,\"#0d0887\"],[0.1111111111111111,\"#46039f\"],[0.2222222222222222,\"#7201a8\"],[0.3333333333333333,\"#9c179e\"],[0.4444444444444444,\"#bd3786\"],[0.5555555555555556,\"#d8576b\"],[0.6666666666666666,\"#ed7953\"],[0.7777777777777778,\"#fb9f3a\"],[0.8888888888888888,\"#fdca26\"],[1.0,\"#f0f921\"]]}],\"heatmapgl\":[{\"type\":\"heatmapgl\",\"colorbar\":{\"outlinewidth\":0,\"ticks\":\"\"},\"colorscale\":[[0.0,\"#0d0887\"],[0.1111111111111111,\"#46039f\"],[0.2222222222222222,\"#7201a8\"],[0.3333333333333333,\"#9c179e\"],[0.4444444444444444,\"#bd3786\"],[0.5555555555555556,\"#d8576b\"],[0.6666666666666666,\"#ed7953\"],[0.7777777777777778,\"#fb9f3a\"],[0.8888888888888888,\"#fdca26\"],[1.0,\"#f0f921\"]]}],\"contourcarpet\":[{\"type\":\"contourcarpet\",\"colorbar\":{\"outlinewidth\":0,\"ticks\":\"\"}}],\"contour\":[{\"type\":\"contour\",\"colorbar\":{\"outlinewidth\":0,\"ticks\":\"\"},\"colorscale\":[[0.0,\"#0d0887\"],[0.1111111111111111,\"#46039f\"],[0.2222222222222222,\"#7201a8\"],[0.3333333333333333,\"#9c179e\"],[0.4444444444444444,\"#bd3786\"],[0.5555555555555556,\"#d8576b\"],[0.6666666666666666,\"#ed7953\"],[0.7777777777777778,\"#fb9f3a\"],[0.8888888888888888,\"#fdca26\"],[1.0,\"#f0f921\"]]}],\"surface\":[{\"type\":\"surface\",\"colorbar\":{\"outlinewidth\":0,\"ticks\":\"\"},\"colorscale\":[[0.0,\"#0d0887\"],[0.1111111111111111,\"#46039f\"],[0.2222222222222222,\"#7201a8\"],[0.3333333333333333,\"#9c179e\"],[0.4444444444444444,\"#bd3786\"],[0.5555555555555556,\"#d8576b\"],[0.6666666666666666,\"#ed7953\"],[0.7777777777777778,\"#fb9f3a\"],[0.8888888888888888,\"#fdca26\"],[1.0,\"#f0f921\"]]}],\"mesh3d\":[{\"type\":\"mesh3d\",\"colorbar\":{\"outlinewidth\":0,\"ticks\":\"\"}}],\"scatter\":[{\"fillpattern\":{\"fillmode\":\"overlay\",\"size\":10,\"solidity\":0.2},\"type\":\"scatter\"}],\"parcoords\":[{\"type\":\"parcoords\",\"line\":{\"colorbar\":{\"outlinewidth\":0,\"ticks\":\"\"}}}],\"scatterpolargl\":[{\"type\":\"scatterpolargl\",\"marker\":{\"colorbar\":{\"outlinewidth\":0,\"ticks\":\"\"}}}],\"bar\":[{\"error_x\":{\"color\":\"#2a3f5f\"},\"error_y\":{\"color\":\"#2a3f5f\"},\"marker\":{\"line\":{\"color\":\"#E5ECF6\",\"width\":0.5},\"pattern\":{\"fillmode\":\"overlay\",\"size\":10,\"solidity\":0.2}},\"type\":\"bar\"}],\"scattergeo\":[{\"type\":\"scattergeo\",\"marker\":{\"colorbar\":{\"outlinewidth\":0,\"ticks\":\"\"}}}],\"scatterpolar\":[{\"type\":\"scatterpolar\",\"marker\":{\"colorbar\":{\"outlinewidth\":0,\"ticks\":\"\"}}}],\"histogram\":[{\"marker\":{\"pattern\":{\"fillmode\":\"overlay\",\"size\":10,\"solidity\":0.2}},\"type\":\"histogram\"}],\"scattergl\":[{\"type\":\"scattergl\",\"marker\":{\"colorbar\":{\"outlinewidth\":0,\"ticks\":\"\"}}}],\"scatter3d\":[{\"type\":\"scatter3d\",\"line\":{\"colorbar\":{\"outlinewidth\":0,\"ticks\":\"\"}},\"marker\":{\"colorbar\":{\"outlinewidth\":0,\"ticks\":\"\"}}}],\"scattermapbox\":[{\"type\":\"scattermapbox\",\"marker\":{\"colorbar\":{\"outlinewidth\":0,\"ticks\":\"\"}}}],\"scatterternary\":[{\"type\":\"scatterternary\",\"marker\":{\"colorbar\":{\"outlinewidth\":0,\"ticks\":\"\"}}}],\"scattercarpet\":[{\"type\":\"scattercarpet\",\"marker\":{\"colorbar\":{\"outlinewidth\":0,\"ticks\":\"\"}}}],\"carpet\":[{\"aaxis\":{\"endlinecolor\":\"#2a3f5f\",\"gridcolor\":\"white\",\"linecolor\":\"white\",\"minorgridcolor\":\"white\",\"startlinecolor\":\"#2a3f5f\"},\"baxis\":{\"endlinecolor\":\"#2a3f5f\",\"gridcolor\":\"white\",\"linecolor\":\"white\",\"minorgridcolor\":\"white\",\"startlinecolor\":\"#2a3f5f\"},\"type\":\"carpet\"}],\"table\":[{\"cells\":{\"fill\":{\"color\":\"#EBF0F8\"},\"line\":{\"color\":\"white\"}},\"header\":{\"fill\":{\"color\":\"#C8D4E3\"},\"line\":{\"color\":\"white\"}},\"type\":\"table\"}],\"barpolar\":[{\"marker\":{\"line\":{\"color\":\"#E5ECF6\",\"width\":0.5},\"pattern\":{\"fillmode\":\"overlay\",\"size\":10,\"solidity\":0.2}},\"type\":\"barpolar\"}],\"pie\":[{\"automargin\":true,\"type\":\"pie\"}]},\"layout\":{\"autotypenumbers\":\"strict\",\"colorway\":[\"#636efa\",\"#EF553B\",\"#00cc96\",\"#ab63fa\",\"#FFA15A\",\"#19d3f3\",\"#FF6692\",\"#B6E880\",\"#FF97FF\",\"#FECB52\"],\"font\":{\"color\":\"#2a3f5f\"},\"hovermode\":\"closest\",\"hoverlabel\":{\"align\":\"left\"},\"paper_bgcolor\":\"white\",\"plot_bgcolor\":\"#E5ECF6\",\"polar\":{\"bgcolor\":\"#E5ECF6\",\"angularaxis\":{\"gridcolor\":\"white\",\"linecolor\":\"white\",\"ticks\":\"\"},\"radialaxis\":{\"gridcolor\":\"white\",\"linecolor\":\"white\",\"ticks\":\"\"}},\"ternary\":{\"bgcolor\":\"#E5ECF6\",\"aaxis\":{\"gridcolor\":\"white\",\"linecolor\":\"white\",\"ticks\":\"\"},\"baxis\":{\"gridcolor\":\"white\",\"linecolor\":\"white\",\"ticks\":\"\"},\"caxis\":{\"gridcolor\":\"white\",\"linecolor\":\"white\",\"ticks\":\"\"}},\"coloraxis\":{\"colorbar\":{\"outlinewidth\":0,\"ticks\":\"\"}},\"colorscale\":{\"sequential\":[[0.0,\"#0d0887\"],[0.1111111111111111,\"#46039f\"],[0.2222222222222222,\"#7201a8\"],[0.3333333333333333,\"#9c179e\"],[0.4444444444444444,\"#bd3786\"],[0.5555555555555556,\"#d8576b\"],[0.6666666666666666,\"#ed7953\"],[0.7777777777777778,\"#fb9f3a\"],[0.8888888888888888,\"#fdca26\"],[1.0,\"#f0f921\"]],\"sequentialminus\":[[0.0,\"#0d0887\"],[0.1111111111111111,\"#46039f\"],[0.2222222222222222,\"#7201a8\"],[0.3333333333333333,\"#9c179e\"],[0.4444444444444444,\"#bd3786\"],[0.5555555555555556,\"#d8576b\"],[0.6666666666666666,\"#ed7953\"],[0.7777777777777778,\"#fb9f3a\"],[0.8888888888888888,\"#fdca26\"],[1.0,\"#f0f921\"]],\"diverging\":[[0,\"#8e0152\"],[0.1,\"#c51b7d\"],[0.2,\"#de77ae\"],[0.3,\"#f1b6da\"],[0.4,\"#fde0ef\"],[0.5,\"#f7f7f7\"],[0.6,\"#e6f5d0\"],[0.7,\"#b8e186\"],[0.8,\"#7fbc41\"],[0.9,\"#4d9221\"],[1,\"#276419\"]]},\"xaxis\":{\"gridcolor\":\"white\",\"linecolor\":\"white\",\"ticks\":\"\",\"title\":{\"standoff\":15},\"zerolinecolor\":\"white\",\"automargin\":true,\"zerolinewidth\":2},\"yaxis\":{\"gridcolor\":\"white\",\"linecolor\":\"white\",\"ticks\":\"\",\"title\":{\"standoff\":15},\"zerolinecolor\":\"white\",\"automargin\":true,\"zerolinewidth\":2},\"scene\":{\"xaxis\":{\"backgroundcolor\":\"#E5ECF6\",\"gridcolor\":\"white\",\"linecolor\":\"white\",\"showbackground\":true,\"ticks\":\"\",\"zerolinecolor\":\"white\",\"gridwidth\":2},\"yaxis\":{\"backgroundcolor\":\"#E5ECF6\",\"gridcolor\":\"white\",\"linecolor\":\"white\",\"showbackground\":true,\"ticks\":\"\",\"zerolinecolor\":\"white\",\"gridwidth\":2},\"zaxis\":{\"backgroundcolor\":\"#E5ECF6\",\"gridcolor\":\"white\",\"linecolor\":\"white\",\"showbackground\":true,\"ticks\":\"\",\"zerolinecolor\":\"white\",\"gridwidth\":2}},\"shapedefaults\":{\"line\":{\"color\":\"#2a3f5f\"}},\"annotationdefaults\":{\"arrowcolor\":\"#2a3f5f\",\"arrowhead\":0,\"arrowwidth\":1},\"geo\":{\"bgcolor\":\"white\",\"landcolor\":\"#E5ECF6\",\"subunitcolor\":\"white\",\"showland\":true,\"showlakes\":true,\"lakecolor\":\"white\"},\"title\":{\"x\":0.05},\"mapbox\":{\"style\":\"light\"}}}},                        {\"responsive\": true}                    ).then(function(){\n",
              "                            \n",
              "var gd = document.getElementById('b19c37d5-32da-407f-935e-e9317a73bfdb');\n",
              "var x = new MutationObserver(function (mutations, observer) {{\n",
              "        var display = window.getComputedStyle(gd).display;\n",
              "        if (!display || display === 'none') {{\n",
              "            console.log([gd, 'removed!']);\n",
              "            Plotly.purge(gd);\n",
              "            observer.disconnect();\n",
              "        }}\n",
              "}});\n",
              "\n",
              "// Listen for the removal of the full notebook cells\n",
              "var notebookContainer = gd.closest('#notebook-container');\n",
              "if (notebookContainer) {{\n",
              "    x.observe(notebookContainer, {childList: true});\n",
              "}}\n",
              "\n",
              "// Listen for the clearing of the current output cell\n",
              "var outputEl = gd.closest('.output');\n",
              "if (outputEl) {{\n",
              "    x.observe(outputEl, {childList: true});\n",
              "}}\n",
              "\n",
              "                        })                };                            </script>        </div>\n",
              "</body>\n",
              "</html>"
            ]
          },
          "metadata": {}
        }
      ]
    }
  ]
}